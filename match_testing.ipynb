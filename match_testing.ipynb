{
 "cells": [
  {
   "cell_type": "code",
   "execution_count": 2,
   "metadata": {},
   "outputs": [],
   "source": [
    " import pandas as pd\n",
    "import numpy as np\n",
    "\n",
    "def find_matches(df):\n",
    "    matches = {}\n",
    "    for ind, row1 in df.iterrows(): #iterate through users\n",
    "        temp_matches = {}\n",
    "        if row1['noise'] == 0:\n",
    "            second_df = df[df['noise'] == 0]\n",
    "        else:\n",
    "            second_df = df[df['noise'] != 0]\n",
    "        for ind2, row2 in second_df[second_df['collab'] == row1['collab']].iterrows():\n",
    "            shared_classes = set(row1['classes']).intersection(row2['classes'])\n",
    "            if bool(shared_classes):\n",
    "                soft_dot1 = row1[['style', 'env', 'noise']].values\n",
    "                soft_dot2 = row2[['style', 'env', 'noise']].values\n",
    "                num_shared_classes = len(shared_classes)\n",
    "                for course in shared_classes:\n",
    "                    soft_dot1.append(row1['classes'][course])\n",
    "                    soft_dot2.append(row1['classes'][course])\n",
    "                preferences = num_shared_classes + np.dot(soft_dot1, soft_dot2)\n",
    "                temp_matches[ind2] = preferences\n",
    "        matches[ind] = [i[0] for i in sorted(b.items(),key=lambda item: item[1],reverse=True)]\n",
    "\n",
    "def make_groups(matches_df):\n",
    "    sgroups3 = []\n",
    "    sgroups4 = []\n",
    "    seen = set()\n",
    "    output_df = pd.DataFrame({'names': matches_df['name']})\n",
    "    for ind, row in matches_df.iterrows():\n",
    "        for student in row['matched']: #all possible pairs... find if 3rd persn\n",
    "            possible_thirds = set(matches_df[matches_df['name'] == student]['matched'].values[0]).intersection(row['matched'])\n",
    "            for name in possible_thirds:\n",
    "                sgroup = frozenset([row['name'], student, name])\n",
    "                if sgroup not in seen and not seen.add(sgroup):\n",
    "                    possible_fourths = set.intersection(set((matches_df[matches_df['name'] == name]['matched'].values[0])), set(matches_df[matches_df['name'] == student]['matched'].values[0]), set(row['matched']))\n",
    "                    if bool(possible_fourths):\n",
    "                        for name2 in possible_fourths:\n",
    "                            sgroup4 = frozenset([row['name'], student, name, name2])\n",
    "                            if sgroup4 not in seen and not seen.add(sgroup4):\n",
    "                                sgroups4.append(sgroup4)\n",
    "                    else:\n",
    "                        sgroups3.append(sgroup)\n",
    "    sgroups3.extend(sgroups4)\n",
    "    return [list(x) for x in sgroups3]\n",
    "\n",
    "def test():\n",
    "    df = pd.DataFrame(data=[['a',['b','c','d']], ['b',['a','c','d','e']], ['c',['b','a','d', 'e']], ['d',['b','c','a']], ['e',['b']]], columns=['name','matched'])\n",
    "    output_df = make_groups(df)\n",
    "    print(output_df)\n"
   ]
  },
  {
   "cell_type": "code",
   "execution_count": 3,
   "metadata": {},
   "outputs": [
    {
     "name": "stdout",
     "output_type": "stream",
     "text": [
      "[['b', 'c', 'e'], ['d', 'b', 'c', 'a']]\n"
     ]
    }
   ],
   "source": [
    "test()"
   ]
  },
  {
   "cell_type": "code",
   "execution_count": 18,
   "metadata": {},
   "outputs": [],
   "source": [
    "nos = ['ah', 'b']"
   ]
  },
  {
   "cell_type": "code",
   "execution_count": 11,
   "metadata": {},
   "outputs": [],
   "source": [
    "import json"
   ]
  },
  {
   "cell_type": "code",
   "execution_count": 10,
   "metadata": {},
   "outputs": [
    {
     "ename": "ValueError",
     "evalue": "zero-valued itemsize",
     "output_type": "error",
     "traceback": [
      "\u001b[0;31m---------------------------------------------------------------------------\u001b[0m",
      "\u001b[0;31mValueError\u001b[0m                                Traceback (most recent call last)",
      "\u001b[0;32m<ipython-input-10-a0bebebccd32>\u001b[0m in \u001b[0;36m<module>\u001b[0;34m()\u001b[0m\n\u001b[0;32m----> 1\u001b[0;31m \u001b[0mnp\u001b[0m\u001b[0;34m.\u001b[0m\u001b[0mfromstring\u001b[0m\u001b[0;34m(\u001b[0m\u001b[0mnos\u001b[0m\u001b[0;34m,\u001b[0m \u001b[0mdtype\u001b[0m\u001b[0;34m=\u001b[0m\u001b[0mstr\u001b[0m\u001b[0;34m,\u001b[0m \u001b[0msep\u001b[0m\u001b[0;34m=\u001b[0m\u001b[0;34m','\u001b[0m\u001b[0;34m)\u001b[0m\u001b[0;34m\u001b[0m\u001b[0;34m\u001b[0m\u001b[0m\n\u001b[0m",
      "\u001b[0;31mValueError\u001b[0m: zero-valued itemsize"
     ]
    }
   ],
   "source": [
    "\n",
    "array = '{\"fruits\": [\"apple\", \"banana\", \"orange\"]}'\n",
    "data  = json.loads(array)"
   ]
  },
  {
   "cell_type": "code",
   "execution_count": 27,
   "metadata": {},
   "outputs": [
    {
     "data": {
      "text/plain": [
       "'[\"ah\", \"b\"]'"
      ]
     },
     "execution_count": 27,
     "metadata": {},
     "output_type": "execute_result"
    }
   ],
   "source": [
    "json.dumps(nos)"
   ]
  },
  {
   "cell_type": "code",
   "execution_count": 26,
   "metadata": {},
   "outputs": [
    {
     "ename": "AttributeError",
     "evalue": "'str' object has no attribute 'read'",
     "output_type": "error",
     "traceback": [
      "\u001b[0;31m---------------------------------------------------------------------------\u001b[0m",
      "\u001b[0;31mAttributeError\u001b[0m                            Traceback (most recent call last)",
      "\u001b[0;32m<ipython-input-26-3bac35df4144>\u001b[0m in \u001b[0;36m<module>\u001b[0;34m()\u001b[0m\n\u001b[0;32m----> 1\u001b[0;31m \u001b[0mjson\u001b[0m\u001b[0;34m.\u001b[0m\u001b[0mload\u001b[0m\u001b[0;34m(\u001b[0m\u001b[0mjson\u001b[0m\u001b[0;34m.\u001b[0m\u001b[0mdumps\u001b[0m\u001b[0;34m(\u001b[0m\u001b[0mnos\u001b[0m\u001b[0;34m)\u001b[0m\u001b[0;34m)\u001b[0m\u001b[0;34m\u001b[0m\u001b[0;34m\u001b[0m\u001b[0m\n\u001b[0m",
      "\u001b[0;32m/anaconda3/lib/python3.6/json/__init__.py\u001b[0m in \u001b[0;36mload\u001b[0;34m(fp, cls, object_hook, parse_float, parse_int, parse_constant, object_pairs_hook, **kw)\u001b[0m\n\u001b[1;32m    294\u001b[0m \u001b[0;34m\u001b[0m\u001b[0m\n\u001b[1;32m    295\u001b[0m     \"\"\"\n\u001b[0;32m--> 296\u001b[0;31m     return loads(fp.read(),\n\u001b[0m\u001b[1;32m    297\u001b[0m         \u001b[0mcls\u001b[0m\u001b[0;34m=\u001b[0m\u001b[0mcls\u001b[0m\u001b[0;34m,\u001b[0m \u001b[0mobject_hook\u001b[0m\u001b[0;34m=\u001b[0m\u001b[0mobject_hook\u001b[0m\u001b[0;34m,\u001b[0m\u001b[0;34m\u001b[0m\u001b[0;34m\u001b[0m\u001b[0m\n\u001b[1;32m    298\u001b[0m         \u001b[0mparse_float\u001b[0m\u001b[0;34m=\u001b[0m\u001b[0mparse_float\u001b[0m\u001b[0;34m,\u001b[0m \u001b[0mparse_int\u001b[0m\u001b[0;34m=\u001b[0m\u001b[0mparse_int\u001b[0m\u001b[0;34m,\u001b[0m\u001b[0;34m\u001b[0m\u001b[0;34m\u001b[0m\u001b[0m\n",
      "\u001b[0;31mAttributeError\u001b[0m: 'str' object has no attribute 'read'"
     ]
    }
   ],
   "source": [
    "json.load(json.dumps(nos))"
   ]
  },
  {
   "cell_type": "code",
   "execution_count": null,
   "metadata": {},
   "outputs": [],
   "source": []
  }
 ],
 "metadata": {
  "kernelspec": {
   "display_name": "Python 3",
   "language": "python",
   "name": "python3"
  },
  "language_info": {
   "codemirror_mode": {
    "name": "ipython",
    "version": 3
   },
   "file_extension": ".py",
   "mimetype": "text/x-python",
   "name": "python",
   "nbconvert_exporter": "python",
   "pygments_lexer": "ipython3",
   "version": "3.6.7"
  }
 },
 "nbformat": 4,
 "nbformat_minor": 2
}
